{
 "cells": [
  {
   "cell_type": "code",
   "execution_count": 46,
   "metadata": {
    "id": "LG1W04dDQQXA"
   },
   "outputs": [],
   "source": [
    "import numpy as np\n",
    "import pandas as pd\n",
    "from scipy import stats\n",
    "import seaborn as sns\n",
    "import matplotlib.pyplot as plt"
   ]
  },
  {
   "cell_type": "markdown",
   "metadata": {
    "id": "yVXuNpKDUa2I"
   },
   "source": [
    "**EXERCISE 1.** \\\n",
    "\n",
    "Answer the following questions by looking at the distribution table or coding with Python.\\\n",
    "\n"
   ]
  },
  {
   "cell_type": "markdown",
   "metadata": {
    "id": "opocE73ZVo1q"
   },
   "source": [
    "1. A salesperson has found that the probability of a sale on a single contact is approximately .3. If the salesperson contacts 10 prospects, what is the approximate probability of making at least one sale? (Wackerly, Ex.3.135)\n"
   ]
  },
  {
   "cell_type": "code",
   "execution_count": 47,
   "metadata": {
    "id": "Vb4EKAQuVl0u"
   },
   "outputs": [],
   "source": [
    "n = 10 # the number of trials\n",
    "p = 0.3 # the probability of success\n",
    "x = 0 # r.v."
   ]
  },
  {
   "cell_type": "code",
   "execution_count": 48,
   "metadata": {
    "colab": {
     "base_uri": "https://localhost:8080/"
    },
    "id": "WPYjPmazad4N",
    "outputId": "d206f5d5-f086-4c66-b738-5713ddf07cbb"
   },
   "outputs": [],
   "source": [
    "none_sale = stats.binom.pmf(x, n, p)"
   ]
  },
  {
   "cell_type": "code",
   "execution_count": 49,
   "metadata": {
    "colab": {
     "base_uri": "https://localhost:8080/"
    },
    "id": "VKGyCibNZyVQ",
    "outputId": "2b1c167c-3baa-49f3-ff6d-608d65068379"
   },
   "outputs": [
    {
     "data": {
      "text/plain": [
       "0.9718"
      ]
     },
     "execution_count": 49,
     "metadata": {},
     "output_type": "execute_result"
    }
   ],
   "source": [
    "round(1 - none_sale,4)"
   ]
  },
  {
   "cell_type": "markdown",
   "metadata": {
    "id": "fWicTGYnVus4"
   },
   "source": [
    "2. Ten coins are tossed simultaneously. Find the probability of getting\\\n",
    "(i) at least seven heads\\\n",
    "(ii) exactly seven heads\\\n",
    "(iii)at most seven heads"
   ]
  },
  {
   "cell_type": "code",
   "execution_count": 50,
   "metadata": {
    "id": "0mpMhf-CawND"
   },
   "outputs": [],
   "source": [
    "n = 10 #the number of trials\n",
    "p = 0.5  #the probability of heads"
   ]
  },
  {
   "cell_type": "code",
   "execution_count": 51,
   "metadata": {
    "colab": {
     "base_uri": "https://localhost:8080/"
    },
    "id": "jD6UMiL6WQrd",
    "outputId": "55e98b33-4bc6-4cdf-f658-da3b5d9ee45c"
   },
   "outputs": [
    {
     "data": {
      "text/plain": [
       "0.171875"
      ]
     },
     "execution_count": 51,
     "metadata": {},
     "output_type": "execute_result"
    }
   ],
   "source": [
    "#(i)\n",
    "least_six = stats.binom.cdf(6, n, p)\n",
    "1 - least_six"
   ]
  },
  {
   "cell_type": "code",
   "execution_count": 52,
   "metadata": {
    "colab": {
     "base_uri": "https://localhost:8080/"
    },
    "id": "q6Q-AeJ7WUUI",
    "outputId": "41ab9655-7d45-4e0a-d341-71ba8c757867"
   },
   "outputs": [
    {
     "data": {
      "text/plain": [
       "0.11718749999999999"
      ]
     },
     "execution_count": 52,
     "metadata": {},
     "output_type": "execute_result"
    }
   ],
   "source": [
    "#(ii)\n",
    "stats.binom.pmf(7, n, p)"
   ]
  },
  {
   "cell_type": "code",
   "execution_count": 53,
   "metadata": {
    "colab": {
     "base_uri": "https://localhost:8080/"
    },
    "id": "PtQPeH9vWXFe",
    "outputId": "27bbd493-747e-4709-a550-ebe3f21c97ea"
   },
   "outputs": [
    {
     "data": {
      "text/plain": [
       "0.9453125"
      ]
     },
     "execution_count": 53,
     "metadata": {},
     "output_type": "execute_result"
    }
   ],
   "source": [
    "#(iii)\n",
    "stats.binom.cdf(7, n, p)"
   ]
  },
  {
   "cell_type": "markdown",
   "metadata": {
    "id": "-HdPhMPfWeIG"
   },
   "source": [
    "**EXERCISE 2.** \\\n",
    "The cycle time for trucks hauling concrete to a highway construction site is uniformly distributed over the interval 50 to 70 minutes. What is the probability that the cycle time exceeds 65 minutes  if it is known that the cycle time exceeds 55 minutes? (Wackerly, Ex.4.51)\n"
   ]
  },
  {
   "cell_type": "code",
   "execution_count": 54,
   "metadata": {
    "id": "d9KxCtetW6ew"
   },
   "outputs": [],
   "source": [
    "n1 = 50 # minimum time\n",
    "n2 = 70 # maximum time\n",
    "x1 = 55 \n",
    "x2 = 65"
   ]
  },
  {
   "cell_type": "code",
   "execution_count": 55,
   "metadata": {
    "id": "i4XR-tEplIMw"
   },
   "outputs": [],
   "source": [
    "p1 = 1-stats.uniform.cdf(x2, n1, n2-n1) # cycle time exceeds 65 minutes"
   ]
  },
  {
   "cell_type": "code",
   "execution_count": 56,
   "metadata": {
    "id": "QbY4vQgQlucy"
   },
   "outputs": [],
   "source": [
    "p2 = 1-stats.uniform.cdf(x1, n1 , n2-n1) # cycle time exceeds 55 minutes"
   ]
  },
  {
   "cell_type": "code",
   "execution_count": 57,
   "metadata": {
    "colab": {
     "base_uri": "https://localhost:8080/"
    },
    "id": "VzknrnXejEFg",
    "outputId": "4414885e-8253-4128-e6e4-62e67445ff0f"
   },
   "outputs": [
    {
     "data": {
      "text/plain": [
       "0.3333333333333333"
      ]
     },
     "execution_count": 57,
     "metadata": {},
     "output_type": "execute_result"
    }
   ],
   "source": [
    "p1 / p2 "
   ]
  },
  {
   "cell_type": "markdown",
   "metadata": {
    "id": "V4BylRMJXEcK"
   },
   "source": [
    "**EXERCISE 3.** \n",
    "\\\n",
    "The width of bolts of fabric is normally distributed with mean 950 mm (millimeters) and standard deviation 10 mm.\n",
    "\n"
   ]
  },
  {
   "cell_type": "markdown",
   "metadata": {
    "id": "qC0uLdzOXbQ7"
   },
   "source": [
    "1.\tWhat is the probability that a randomly chosen bolt has a width of between 947 and 958mm?\n"
   ]
  },
  {
   "cell_type": "code",
   "execution_count": 58,
   "metadata": {
    "id": "palHADdiXqFN"
   },
   "outputs": [],
   "source": [
    "mu =950\n",
    "sigma =np.sqrt(10)\n",
    "x1 = 947\n",
    "x2 = 958"
   ]
  },
  {
   "cell_type": "code",
   "execution_count": 59,
   "metadata": {
    "id": "uqtcupNsyqcR"
   },
   "outputs": [
    {
     "data": {
      "text/plain": [
       "0.3820885778110474"
      ]
     },
     "execution_count": 59,
     "metadata": {},
     "output_type": "execute_result"
    }
   ],
   "source": [
    "v947 = stats.norm.cdf(x1, loc= 950, scale= 10)\n",
    "v947"
   ]
  },
  {
   "cell_type": "code",
   "execution_count": 60,
   "metadata": {
    "id": "_ABlBu1ezsvR"
   },
   "outputs": [
    {
     "data": {
      "text/plain": [
       "0.7881446014166034"
      ]
     },
     "execution_count": 60,
     "metadata": {},
     "output_type": "execute_result"
    }
   ],
   "source": [
    "v958 = stats.norm.cdf(x2, loc= 950, scale= 10)\n",
    "v958"
   ]
  },
  {
   "cell_type": "code",
   "execution_count": 61,
   "metadata": {
    "colab": {
     "base_uri": "https://localhost:8080/"
    },
    "id": "j9D7Li7Zz6UX",
    "outputId": "279009e6-8f0e-4001-daf3-45614294232f"
   },
   "outputs": [
    {
     "data": {
      "text/plain": [
       "0.406056023605556"
      ]
     },
     "execution_count": 61,
     "metadata": {},
     "output_type": "execute_result"
    }
   ],
   "source": [
    "v958 - v947"
   ]
  },
  {
   "cell_type": "markdown",
   "metadata": {
    "id": "TlXmaEegXqeV"
   },
   "source": [
    "2.\tWhat is the appropriate value for C such that a randomly chosen bolt has a width less than C with probability .8531? (Wackerly, Ex.4.73)"
   ]
  },
  {
   "cell_type": "code",
   "execution_count": 62,
   "metadata": {
    "colab": {
     "base_uri": "https://localhost:8080/"
    },
    "id": "RDFoaQawXts2",
    "outputId": "896d310e-d0eb-45c4-e5ae-2d83c2bfeb32"
   },
   "outputs": [
    {
     "data": {
      "text/plain": [
       "1.0498219096264123"
      ]
     },
     "execution_count": 62,
     "metadata": {},
     "output_type": "execute_result"
    }
   ],
   "source": [
    "prob = 0.8531\n",
    "stats.norm.ppf(prob)"
   ]
  },
  {
   "cell_type": "markdown",
   "metadata": {
    "id": "PjS4AM-PXvSS"
   },
   "source": [
    "**EXERCISE 4.**\n",
    "\\\n",
    "Suppose scores on exams in statistics are normally distributed with an unknown population mean and a population standard deviation of 3 points. A random sample of 36 scores is taken and gives a sample mean (sample mean score) of 68. Find a confidence interval estimate for the population mean exam score (the mean score on all exams). Find a 90% confidence interval for the true (population) mean of statistics exam scores.\n"
   ]
  },
  {
   "cell_type": "code",
   "execution_count": 63,
   "metadata": {
    "id": "8Jy7QGc4YCvK"
   },
   "outputs": [],
   "source": [
    "mu=68\n",
    "n=36\n",
    "sigma=3/np.sqrt(n)"
   ]
  },
  {
   "cell_type": "code",
   "execution_count": 64,
   "metadata": {
    "colab": {
     "base_uri": "https://localhost:8080/"
    },
    "id": "0-uLOlTY6HOo",
    "outputId": "855c7c44-0012-4886-84ef-7fb126f78cc1"
   },
   "outputs": [
    {
     "data": {
      "text/plain": [
       "(67.17757318652427, 68.82242681347573)"
      ]
     },
     "execution_count": 64,
     "metadata": {},
     "output_type": "execute_result"
    }
   ],
   "source": [
    "stats.norm.interval(0.90, loc=mu, scale=sigma)"
   ]
  },
  {
   "cell_type": "markdown",
   "metadata": {
    "id": "6-AWcKtWYDNN"
   },
   "source": [
    "**EXERCISE 5.**  \n",
    "What is the normal body temperature for healthy humans? A random sample of 130 healthy human body temperatures provided by Allen Shoemaker yielded 98.25 degrees and standard deviation 0.73 degrees.\n",
    "\n"
   ]
  },
  {
   "cell_type": "markdown",
   "metadata": {
    "id": "W1XEH9JLYTSQ"
   },
   "source": [
    "1.\tGive a 99% confidence interval for the average body temperature of healthy people."
   ]
  },
  {
   "cell_type": "code",
   "execution_count": 65,
   "metadata": {
    "id": "s4HJSpIfYSlX"
   },
   "outputs": [],
   "source": [
    "mu=98.25\n",
    "n=130 \n",
    "sd=0.73\n",
    "sigma=sd/np.sqrt(n)"
   ]
  },
  {
   "cell_type": "code",
   "execution_count": 66,
   "metadata": {
    "colab": {
     "base_uri": "https://localhost:8080/"
    },
    "id": "CRXBoPQ27rUO",
    "outputId": "1daa76a0-5a7a-4b0b-f0a3-e27e5ef151ee"
   },
   "outputs": [
    {
     "data": {
      "text/plain": [
       "(98.08508192246582, 98.41491807753418)"
      ]
     },
     "execution_count": 66,
     "metadata": {},
     "output_type": "execute_result"
    }
   ],
   "source": [
    "stats.norm.interval(0.99, loc=mu, scale=sigma)"
   ]
  },
  {
   "cell_type": "markdown",
   "metadata": {
    "id": "A-Pn9LsnYeBb"
   },
   "source": [
    "2.\tDoes the confidence interval obtained in part (a) contain the value 98.6 degrees, the accepted average temperature cited by physicians and others? What conclusions can you draw? (Wackerly, Ex.8.60)"
   ]
  },
  {
   "cell_type": "code",
   "execution_count": 67,
   "metadata": {
    "id": "B2xVN34AYhnV"
   },
   "outputs": [
    {
     "name": "stdout",
     "output_type": "stream",
     "text": [
      "The value of 98.6 degrees is out of the 99% confidence interval\n"
     ]
    }
   ],
   "source": [
    "value_b = 98.6\n",
    "if value_b > 98.08508192246582 and value_b < 98.41491807753418:\n",
    "  print(f\"The value {value_b} is in the %99 confidence interval\")\n",
    "else:\n",
    "  print(\"The value of 98.6 degrees is out of the 99% confidence interval\")"
   ]
  },
  {
   "cell_type": "markdown",
   "metadata": {
    "id": "mM56RgnrYg3r"
   },
   "source": [
    "Source: *Wackerly, D., Mendenhall, W., & Scheaffer, R. L. (2014). Mathematical statistics with applications. Cengage Learning*"
   ]
  }
 ],
 "metadata": {
  "colab": {
   "name": "Statistic_Assigment_4.ipynb",
   "provenance": []
  },
  "kernelspec": {
   "display_name": "Python 3 (ipykernel)",
   "language": "python",
   "name": "python3"
  },
  "language_info": {
   "codemirror_mode": {
    "name": "ipython",
    "version": 3
   },
   "file_extension": ".py",
   "mimetype": "text/x-python",
   "name": "python",
   "nbconvert_exporter": "python",
   "pygments_lexer": "ipython3",
   "version": "3.9.7"
  }
 },
 "nbformat": 4,
 "nbformat_minor": 1
}
